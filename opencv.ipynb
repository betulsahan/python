{
  "cells": [
    {
      "cell_type": "markdown",
      "metadata": {
        "id": "view-in-github",
        "colab_type": "text"
      },
      "source": [
        "<a href=\"https://colab.research.google.com/github/betulsahan/python/blob/main/opencv.ipynb\" target=\"_parent\"><img src=\"https://colab.research.google.com/assets/colab-badge.svg\" alt=\"Open In Colab\"/></a>"
      ]
    },
    {
      "cell_type": "markdown",
      "source": [
        "OpenCV ile Görüntü İşleme Dersleri"
      ],
      "metadata": {
        "id": "uTm3nGEf_Mew"
      }
    },
    {
      "cell_type": "markdown",
      "source": [
        "# Giriş"
      ],
      "metadata": {
        "id": "1iNMURNa_eC1"
      }
    },
    {
      "cell_type": "code",
      "source": [
        "# Gerekli kütüphanelerin import edilmesi\n",
        "import cv2 as cv\n",
        "import numpy as np\n",
        "import time\n",
        "import os\n"
      ],
      "metadata": {
        "id": "--kRH-6FO1SF"
      },
      "execution_count": null,
      "outputs": []
    },
    {
      "cell_type": "code",
      "source": [
        "# Görüntüyü BGR formatında okur (OpenCV'nin varsayılan formatı)\n",
        "img = cv2.imread('ornek.jpg')"
      ],
      "metadata": {
        "id": "ry89geMQ_f4g"
      },
      "execution_count": null,
      "outputs": []
    },
    {
      "cell_type": "code",
      "source": [
        "# Görüntüyü Colab'de göstermek için cv2_imshow kullanılır\n",
        "cv2_imshow(img)"
      ],
      "metadata": {
        "id": "v-IWb9eu_pxs"
      },
      "execution_count": null,
      "outputs": []
    },
    {
      "cell_type": "code",
      "source": [
        "# Kaynakların düzgün bir şekilde kapanması için\n",
        "cv2.waitKey(0)  # colab' de bu kısım çalışmıyor\n",
        "cv2.destroyAllWindows()"
      ],
      "metadata": {
        "id": "2bWX0jZe_tUK"
      },
      "execution_count": null,
      "outputs": []
    },
    {
      "cell_type": "code",
      "source": [
        "# Renk Uzayları: BGR - GRAY - HSV - RGB\n",
        "\n",
        "#BGR: OpenCV'nin varsayılan renk düzeni (Blue, Green, Red)\n",
        "#RGB: İnsan gözüne daha doğal gelen sıralama\n",
        "#GRAY: Gri tonlama (siyah-beyaz)\n",
        "#HSV: Ton, Doygunluk, Parlaklık – renk algılamada çok kullanışlı\n",
        "\n",
        "#renk uzayları arası dönüşüm\n",
        "gray = cv2.cvtColor(img, cv2.COLOR_BGR2GRAY)\n",
        "hsv = cv2.cvtColor(img, cv2.COLOR_BGR2HSV)\n",
        "rgb = cv2.cvtColor(img, cv2.COLOR_BGR2RGB)\n",
        "\n",
        "cv2_imshow(gray)\n",
        "cv2_imshow(hsv)\n",
        "cv2_imshow(rgb)"
      ],
      "metadata": {
        "id": "yvJnbgCVA6PO"
      },
      "execution_count": null,
      "outputs": []
    },
    {
      "cell_type": "code",
      "source": [
        "# Yeniden boyutlandırma\n",
        "resized = cv2.resize(img, (300, 300)) #(fx,fy) yatay ve dikey ölçekleme oranı\n",
        "cv2_imshow(resized)\n",
        "\n",
        "# Kesme\n",
        "cropped = img[100:300, 200:400] #[y1:y2, x1:x2]\n",
        "cv2_imshow(cropped)\n",
        "\n",
        "# Döndürme\n",
        "(h, w) = img.shape[:2]\n",
        "center = (w // 2, h // 2)\n",
        "rotated = cv2.warpAffine(img, cv2.getRotationMatrix2D(center, 45, 1.0), (w, h))\n",
        "#cv2.warpAffine(img, cv2.getRotationMatrix2D(center, angle, scale)\n",
        "cv2_imshow(rotated)\n"
      ],
      "metadata": {
        "id": "B85sfd7nBZaO"
      },
      "execution_count": null,
      "outputs": []
    },
    {
      "cell_type": "code",
      "source": [
        "# Kopyasını al\n",
        "canvas = img.copy()\n",
        "\n",
        "# Dikdörtgen çiz\n",
        "cv2.rectangle(canvas, (50, 50), (200, 200), (0, 255, 0), 3) #img, sol üst köşe, sağ alt köşe, renk(BGR), kalınlık\n",
        "\n",
        "# Çember çiz\n",
        "cv2.circle(canvas, (300, 300), 50, (255, 0, 0), 2) #img, merkez, yarıçap, renk(BGR), kalınlık\n",
        "\n",
        "# Çizgi çiz\n",
        "cv2.line(canvas, (0, 0), (400, 400), (0, 0, 255), 2) #img, konum1, konum2, renk(BGR), kalınlık\n",
        "\n",
        "# Yazı yaz\n",
        "cv2.putText(canvas, 'Merhaba OpenCV!', (10, 50), cv2.FONT_HERSHEY_SIMPLEX, 1, (0,255,255), 2) #img, yazı, başlangıç koordinatı, yazı tipi, büyüklük, renk(BGR), kalınlık\n",
        "\n",
        "#klaınlık değeri -1 girilirse cismin içi doldurulur.\n",
        "\n",
        "cv2_imshow(canvas)\n"
      ],
      "metadata": {
        "id": "mdwihht_BmXs"
      },
      "execution_count": null,
      "outputs": []
    },
    {
      "cell_type": "code",
      "source": [
        "# Bulanıklaştırma\n",
        "blur = cv2.GaussianBlur(gray, (7, 7), 0) #giriş görüntüsü, kernel boyutu, standart sapma\n",
        "\n",
        "# Canny Kenar Algılama\n",
        "edges = cv2.Canny(blur, 100, 200) #giriş görüntüsü, eşik değeri1 , eşik değeri2\n",
        "\n",
        "cv2_imshow(edges)\n"
      ],
      "metadata": {
        "id": "EdoTJRf2CSaf"
      },
      "execution_count": null,
      "outputs": []
    },
    {
      "cell_type": "code",
      "source": [
        "# Kenarları bul\n",
        "edges = cv2.Canny(gray, 50, 150)\n",
        "\n",
        "# Kontur bulma\n",
        "contours, _ = cv2.findContours(edges, cv2.RETR_EXTERNAL, cv2.CHAIN_APPROX_SIMPLE) #img, bulma metodu, yakalama yöntemi\n",
        "\n",
        "# Kontur çizme\n",
        "img_copy = img.copy()\n",
        "cv2.drawContours(img_copy, contours, -1, (0, 255, 0), 2) #img, bulduğum konturlerin listesi\n",
        "                                                         #hangi konturler çizilecek (-1 ise hepsi)\n",
        "cv2_imshow(img_copy)\n"
      ],
      "metadata": {
        "id": "yTti8tgyCctF"
      },
      "execution_count": null,
      "outputs": []
    },
    {
      "cell_type": "code",
      "source": [
        "# Renk Algılama (HSV ile)\n",
        "\n",
        "# Renk aralığı seç\n",
        "lower_red = np.array([0, 100, 100])\n",
        "upper_red = np.array([10, 255, 255])\n",
        "\n",
        "# HSV'ye dönüştür\n",
        "hsv = cv2.cvtColor(img, cv2.COLOR_BGR2HSV)\n",
        "# Belirli renge göre maske oluştur\n",
        "mask = cv2.inRange(hsv, lower_red, upper_red)\n",
        "# Maskeyi orijinal görüntüyle birleştir\n",
        "result = cv2.bitwise_and(img, img, mask=mask)\n",
        "\n",
        "cv2_imshow(mask)\n",
        "cv2_imshow(result)\n"
      ],
      "metadata": {
        "id": "87C4tSVeCn9M"
      },
      "execution_count": null,
      "outputs": []
    },
    {
      "cell_type": "code",
      "source": [
        "# Kamera Kullanımı\n",
        "\n",
        "cap = cv2.VideoCapture(0)\n",
        "\n",
        "while True:\n",
        "    ret, frame = cap.read()\n",
        "    if not ret:\n",
        "        break\n",
        "    cv2.imshow(\"Kamera\", frame)\n",
        "    if cv2.waitKey(1) & 0xFF == ord('q'):\n",
        "        break\n",
        "\n",
        "cap.release()\n",
        "cv2.destroyAllWindows()\n"
      ],
      "metadata": {
        "id": "t-EjjRfUCyFp"
      },
      "execution_count": null,
      "outputs": []
    },
    {
      "cell_type": "markdown",
      "source": [
        "\n",
        "\n",
        "# Hough Dönüşümü"
      ],
      "metadata": {
        "id": "U01RPaIKLAZI"
      }
    },
    {
      "cell_type": "code",
      "source": [
        "cv2.HoughLines() # Doğruları bulmak için\n",
        "\n",
        "cv2.HoughCircles() # Çemberleri bulmak için"
      ],
      "metadata": {
        "id": "24pf4I1XLCp2"
      },
      "execution_count": null,
      "outputs": []
    },
    {
      "cell_type": "code",
      "source": [
        "circles = cv2.HoughCircles(\n",
        "    image,                  # Gri tonlamalı görüntü\n",
        "    method,                 # Algoritma (genelde HOUGH_GRADIENT)\n",
        "    dp,                     # Akümülasyon çözünürlüğü (oran) 1 = aynı çözünürlük, 2 = 1/2 çözünürlük\n",
        "    minDist,                # En yakın 2 çemberin merkezi arası min mesafe\n",
        "    param1=50,              # Canny kenar tespiti için üst eşik\n",
        "    param2=30,              # Çember merkezi tespiti için eşik\n",
        "    minRadius=0,            # Tespit edilecek en küçük yarıçap\n",
        "    maxRadius=0             # Tespit edilecek en büyük yarıçap\n",
        ")\n"
      ],
      "metadata": {
        "id": "dNvA4QqtLSlJ"
      },
      "execution_count": null,
      "outputs": []
    },
    {
      "cell_type": "code",
      "source": [
        "#örnek kullanım\n",
        "\n",
        "gray = cv2.cvtColor(frame, cv2.COLOR_BGR2GRAY)  # Gri tonlamaya çeviriyoruz\n",
        "gray = cv2.GaussianBlur(gray, (5, 5), 0)        # Gürültüyü azaltmak için bulanıklaştır\n",
        "\n",
        "circles = cv2.HoughCircles(\n",
        "    gray,\n",
        "    cv2.HOUGH_GRADIENT,\n",
        "    dp=1,\n",
        "    minDist=50,\n",
        "    param1=50,\n",
        "    param2=30,\n",
        "    minRadius=20,\n",
        "    maxRadius=100\n",
        ")\n",
        "\n",
        "# Eğer çember bulunduysa çiz\n",
        "if circles is not None:\n",
        "    circles = np.uint16(np.around(circles))\n",
        "    for i in circles[0, :]:\n",
        "        center = (i[0], i[1])           # Merkez (x, y)\n",
        "        radius = i[2]                  # Yarıçap\n",
        "        cv2.circle(frame, center, 2, (0, 255, 0), 3)    # Merkeze nokta koy\n",
        "        cv2.circle(frame, center, radius, (255, 0, 0), 2)  # Çember çiz\n",
        "\n",
        "\n"
      ],
      "metadata": {
        "id": "P80j6g8sLQ7g"
      },
      "execution_count": null,
      "outputs": []
    },
    {
      "cell_type": "code",
      "source": [
        "#Neden Gaussian Blur Kullanıyoruz??\n",
        "#Çember algılaması hassastır. Kenarlarda ufak parazit bile varsa yanlış çember algılayabilir.\n",
        "#Gaussian Blur bu gürültüleri yumuşatarak daha sağlam sonuç verir."
      ],
      "metadata": {
        "id": "JFqRictJL_9S"
      },
      "execution_count": null,
      "outputs": []
    },
    {
      "cell_type": "code",
      "source": [
        "lines = cv2.HoughLines(image,       #Kenar tespiti yapılmış (cv2.Canny) görüntü\n",
        "                       rho,         #Piksel biriminde mesafe çözünürlüğü, genellikle 1\n",
        "                       theta,       #Radyan biriminde açı çözünürlüğü,  genellikle np.pi/180 (1 derece)\n",
        "                       threshold    #Çizgi kabul edilmesi için min piksel sayısı\n",
        "                       )\n",
        "\n",
        "lines = cv2.HoughLines(edges, 1, np.pi / 180, 100)\n"
      ],
      "metadata": {
        "id": "wTxkgmT2NP3J"
      },
      "execution_count": null,
      "outputs": []
    },
    {
      "cell_type": "code",
      "source": [
        "#Polar kooordinatlardan kartezyene dönüşüm\n",
        "\n",
        "a = np.cos(theta)\n",
        "b = np.sin(theta)\n",
        "x0 = a * rho\n",
        "y0 = b * rho\n",
        "\n",
        "# Çizginin uç noktaları\n",
        "x1 = int(x0 + 1000 * (-b))\n",
        "y1 = int(y0 + 1000 * (a))\n",
        "x2 = int(x0 - 1000 * (-b))\n",
        "y2 = int(y0 - 1000 * (a))\n",
        "\n",
        "cv2.line(frame, (x1, y1), (x2, y2), (0, 0, 255), 2)\n"
      ],
      "metadata": {
        "id": "zQ2QGXOzOLms"
      },
      "execution_count": null,
      "outputs": []
    },
    {
      "cell_type": "code",
      "source": [
        "#örnek kullanım\n",
        "\n",
        "    gray = cv2.cvtColor(frame, cv2.COLOR_BGR2GRAY)\n",
        "    blurred = cv2.GaussianBlur(gray, (5,5), 0)\n",
        "\n",
        "    # Kenar tespiti\n",
        "    edges = cv2.Canny(blurred, 50, 150)\n",
        "\n",
        "    # Hough Çizgi Tespiti\n",
        "    lines = cv2.HoughLines(edges, 1, np.pi/180, 100)\n",
        "\n",
        "    if lines is not None:\n",
        "        for line in lines:\n",
        "            rho, theta = line[0]  # İlk çizgi verisi\n",
        "            a = np.cos(theta)\n",
        "            b = np.sin(theta)\n",
        "            x0 = a * rho\n",
        "            y0 = b * rho\n",
        "            # Noktaları hesapla\n",
        "            x1 = int(x0 + 1000 * (-b))\n",
        "            y1 = int(y0 + 1000 * (a))\n",
        "            x2 = int(x0 - 1000 * (-b))\n",
        "            y2 = int(y0 - 1000 * (a))\n",
        "            # Çizgiyi çiz\n",
        "            cv2.line(frame, (x1, y1), (x2, y2), (0, 0, 255), 2)\n"
      ],
      "metadata": {
        "id": "j09YGFXqOYm_"
      },
      "execution_count": null,
      "outputs": []
    }
  ],
  "metadata": {
    "colab": {
      "toc_visible": true,
      "provenance": [],
      "include_colab_link": true
    },
    "kernelspec": {
      "display_name": "Python 3",
      "name": "python3"
    }
  },
  "nbformat": 4,
  "nbformat_minor": 0
}